{
 "cells": [
  {
   "cell_type": "code",
   "execution_count": 2,
   "id": "0fa31796",
   "metadata": {},
   "outputs": [
    {
     "name": "stdout",
     "output_type": "stream",
     "text": [
      "✅ Analysis complete. CSV and visualizations saved.\n"
     ]
    }
   ],
   "source": [
    "import pandas as pd\n",
    "from textblob import TextBlob\n",
    "import matplotlib.pyplot as plt\n",
    "import seaborn as sns\n",
    "from wordcloud import WordCloud\n",
    "\n",
    "# Load the dataset\n",
    "df = pd.read_csv(\"googleplaystore_user_reviews.csv\")\n",
    "\n",
    "# Drop missing values and remove unwanted rows\n",
    "df.dropna(subset=['Translated_Review'], inplace=True)\n",
    "df = df[df['Translated_Review'].str.lower() != 'nan']\n",
    "\n",
    "# Sentiment analysis using TextBlob\n",
    "df['polarity'] = df['Translated_Review'].apply(lambda x: TextBlob(str(x)).sentiment.polarity)\n",
    "df['subjectivity'] = df['Translated_Review'].apply(lambda x: TextBlob(str(x)).sentiment.subjectivity)\n",
    "\n",
    "# Sentiment categorization\n",
    "def get_sentiment(p):\n",
    "    if p > 0:\n",
    "        return 'Positive'\n",
    "    elif p < 0:\n",
    "        return 'Negative'\n",
    "    else:\n",
    "        return 'Neutral'\n",
    "\n",
    "df['sentiment_category'] = df['polarity'].apply(get_sentiment)\n",
    "\n",
    "# Save for Power BI\n",
    "df.to_csv(\"cleaned_sentiment_reviews.csv\", index=False)\n",
    "\n",
    "# Visualization 1: Sentiment distribution\n",
    "plt.figure(figsize=(6, 4))\n",
    "sns.countplot(data=df, x='sentiment_category', palette='pastel')\n",
    "plt.title('Sentiment Distribution')\n",
    "plt.xlabel('Sentiment')\n",
    "plt.ylabel('Number of Reviews')\n",
    "plt.tight_layout()\n",
    "plt.savefig(\"sentiment_distribution.png\")\n",
    "plt.close()\n",
    "\n",
    "# Visualization 2: Word Cloud\n",
    "text = \" \".join(str(review) for review in df['Translated_Review'])\n",
    "wordcloud = WordCloud(width=800, height=400, background_color='white').generate(text)\n",
    "plt.figure(figsize=(10, 5))\n",
    "plt.imshow(wordcloud, interpolation='bilinear')\n",
    "plt.axis(\"off\")\n",
    "plt.title(\"Most Common Words in Reviews\")\n",
    "plt.savefig(\"review_wordcloud.png\")\n",
    "plt.close()\n",
    "\n",
    "print(\"✅ Analysis complete. CSV and visualizations saved.\")\n"
   ]
  },
  {
   "cell_type": "code",
   "execution_count": null,
   "id": "360f053a",
   "metadata": {},
   "outputs": [],
   "source": []
  }
 ],
 "metadata": {
  "kernelspec": {
   "display_name": "Python 3 (ipykernel)",
   "language": "python",
   "name": "python3"
  },
  "language_info": {
   "codemirror_mode": {
    "name": "ipython",
    "version": 3
   },
   "file_extension": ".py",
   "mimetype": "text/x-python",
   "name": "python",
   "nbconvert_exporter": "python",
   "pygments_lexer": "ipython3",
   "version": "3.9.13"
  }
 },
 "nbformat": 4,
 "nbformat_minor": 5
}
